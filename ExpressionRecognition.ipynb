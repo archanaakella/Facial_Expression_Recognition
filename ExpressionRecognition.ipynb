{
  "nbformat": 4,
  "nbformat_minor": 0,
  "metadata": {
    "colab": {
      "provenance": [],
      "gpuType": "T4"
    },
    "kernelspec": {
      "name": "python3",
      "display_name": "Python 3"
    },
    "language_info": {
      "name": "python"
    },
    "accelerator": "GPU"
  },
  "cells": [
    {
      "cell_type": "code",
      "source": [
        "!nvidia-smi"
      ],
      "metadata": {
        "colab": {
          "base_uri": "https://localhost:8080/"
        },
        "id": "CILLP8O3bgzn",
        "outputId": "1a88ee39-1b6c-484c-88a1-04d048bed2e1"
      },
      "execution_count": 2,
      "outputs": [
        {
          "output_type": "stream",
          "name": "stdout",
          "text": [
            "Thu Jun  6 16:43:24 2024       \n",
            "+---------------------------------------------------------------------------------------+\n",
            "| NVIDIA-SMI 535.104.05             Driver Version: 535.104.05   CUDA Version: 12.2     |\n",
            "|-----------------------------------------+----------------------+----------------------+\n",
            "| GPU  Name                 Persistence-M | Bus-Id        Disp.A | Volatile Uncorr. ECC |\n",
            "| Fan  Temp   Perf          Pwr:Usage/Cap |         Memory-Usage | GPU-Util  Compute M. |\n",
            "|                                         |                      |               MIG M. |\n",
            "|=========================================+======================+======================|\n",
            "|   0  Tesla T4                       Off | 00000000:00:04.0 Off |                    0 |\n",
            "| N/A   40C    P8              11W /  70W |      0MiB / 15360MiB |      0%      Default |\n",
            "|                                         |                      |                  N/A |\n",
            "+-----------------------------------------+----------------------+----------------------+\n",
            "                                                                                         \n",
            "+---------------------------------------------------------------------------------------+\n",
            "| Processes:                                                                            |\n",
            "|  GPU   GI   CI        PID   Type   Process name                            GPU Memory |\n",
            "|        ID   ID                                                             Usage      |\n",
            "|=======================================================================================|\n",
            "|  No running processes found                                                           |\n",
            "+---------------------------------------------------------------------------------------+\n"
          ]
        }
      ]
    },
    {
      "cell_type": "code",
      "source": [
        "!wget https://www.dropbox.com/s/si11cws2pyho1bp/archive.zip"
      ],
      "metadata": {
        "colab": {
          "base_uri": "https://localhost:8080/"
        },
        "id": "1uJcv-grbwyv",
        "outputId": "8db386dc-97fb-44a2-cf44-9d2adec756cb"
      },
      "execution_count": 3,
      "outputs": [
        {
          "output_type": "stream",
          "name": "stdout",
          "text": [
            "--2024-06-06 16:44:46--  https://www.dropbox.com/s/si11cws2pyho1bp/archive.zip\n",
            "Resolving www.dropbox.com (www.dropbox.com)... 162.125.3.18, 2620:100:6019:18::a27d:412\n",
            "Connecting to www.dropbox.com (www.dropbox.com)|162.125.3.18|:443... connected.\n",
            "HTTP request sent, awaiting response... 302 Found\n",
            "Location: /s/raw/si11cws2pyho1bp/archive.zip [following]\n",
            "--2024-06-06 16:44:46--  https://www.dropbox.com/s/raw/si11cws2pyho1bp/archive.zip\n",
            "Reusing existing connection to www.dropbox.com:443.\n",
            "HTTP request sent, awaiting response... 302 Found\n",
            "Location: https://uc6d4af61c99a9e4e9e4b948e427.dl.dropboxusercontent.com/cd/0/inline/CUUce7v8oXbIHbQrty6mc9xpoJhIEQsCbTyHvgpwd4mE3dtzhyPE0pgxxioKZtLcVp-tS-Of6m68AHabtNPKK6Lx9Qmnjh8P7uenbAZ69S2TA2fSQySG2G64FilQGbyvamooGSYP7zgX9CoV4ymiUTYq/file# [following]\n",
            "--2024-06-06 16:44:47--  https://uc6d4af61c99a9e4e9e4b948e427.dl.dropboxusercontent.com/cd/0/inline/CUUce7v8oXbIHbQrty6mc9xpoJhIEQsCbTyHvgpwd4mE3dtzhyPE0pgxxioKZtLcVp-tS-Of6m68AHabtNPKK6Lx9Qmnjh8P7uenbAZ69S2TA2fSQySG2G64FilQGbyvamooGSYP7zgX9CoV4ymiUTYq/file\n",
            "Resolving uc6d4af61c99a9e4e9e4b948e427.dl.dropboxusercontent.com (uc6d4af61c99a9e4e9e4b948e427.dl.dropboxusercontent.com)... 162.125.4.15, 2620:100:6018:15::a27d:30f\n",
            "Connecting to uc6d4af61c99a9e4e9e4b948e427.dl.dropboxusercontent.com (uc6d4af61c99a9e4e9e4b948e427.dl.dropboxusercontent.com)|162.125.4.15|:443... connected.\n",
            "HTTP request sent, awaiting response... 302 Found\n",
            "Location: /cd/0/inline2/CUW8DEWA9gGf9y7D3WXXlAFhHWrVB6MPMpTjt6nEEewuYADT5HpOiO49qLhC6crawTORz6TvbpfaF-PnJ_MoIfDNJ8HPG4zFgRB2nwpqd8AN01kItysXcliKSo6em8hZvzVn2wDhng3sS4pGbydmMH107UR_gbjMyil_mSK9q1jOiHf_r_TxrSSXnuPLi_2UTpBVnBCh2qyRI4Am3IUojwLZ-mxvEVnC88SR1EnnxPCTI74EWsqbB2GpI79lSKJiO_pqXr1rgJZuKpeO9lm-KFjXeUwgRX9LLRDfM14q-2Dgwqz0w9G4MMMQaXd468a57sDNmDVDXAATUfP2P-9m6vUk3ljiB2F2yqDNaKnpVRMvU3IfjQaod2w_sZmzhX1qvWw/file [following]\n",
            "--2024-06-06 16:44:47--  https://uc6d4af61c99a9e4e9e4b948e427.dl.dropboxusercontent.com/cd/0/inline2/CUW8DEWA9gGf9y7D3WXXlAFhHWrVB6MPMpTjt6nEEewuYADT5HpOiO49qLhC6crawTORz6TvbpfaF-PnJ_MoIfDNJ8HPG4zFgRB2nwpqd8AN01kItysXcliKSo6em8hZvzVn2wDhng3sS4pGbydmMH107UR_gbjMyil_mSK9q1jOiHf_r_TxrSSXnuPLi_2UTpBVnBCh2qyRI4Am3IUojwLZ-mxvEVnC88SR1EnnxPCTI74EWsqbB2GpI79lSKJiO_pqXr1rgJZuKpeO9lm-KFjXeUwgRX9LLRDfM14q-2Dgwqz0w9G4MMMQaXd468a57sDNmDVDXAATUfP2P-9m6vUk3ljiB2F2yqDNaKnpVRMvU3IfjQaod2w_sZmzhX1qvWw/file\n",
            "Reusing existing connection to uc6d4af61c99a9e4e9e4b948e427.dl.dropboxusercontent.com:443.\n",
            "HTTP request sent, awaiting response... 200 OK\n",
            "Length: 63252113 (60M) [application/zip]\n",
            "Saving to: ‘archive.zip.1’\n",
            "\n",
            "archive.zip.1       100%[===================>]  60.32M  62.8MB/s    in 1.0s    \n",
            "\n",
            "2024-06-06 16:44:49 (62.8 MB/s) - ‘archive.zip.1’ saved [63252113/63252113]\n",
            "\n"
          ]
        }
      ]
    },
    {
      "cell_type": "code",
      "source": [
        "!unzip -q \"/content/archive.zip\""
      ],
      "metadata": {
        "id": "LqO4zZf6cFQS"
      },
      "execution_count": 4,
      "outputs": []
    },
    {
      "cell_type": "code",
      "source": [
        "# Imports required for this project\n",
        "import tensorflow as tf\n",
        "import numpy as np\n",
        "import matplotlib.pyplot as plt\n",
        "from pathlib import Path\n",
        "\n",
        "tf.random.set_seed(4)"
      ],
      "metadata": {
        "id": "lRFseMGFcKLu"
      },
      "execution_count": 5,
      "outputs": []
    },
    {
      "cell_type": "code",
      "source": [
        "# Creating the Pathlib PATH objects\n",
        "train_path = Path(\"/content/train\")\n",
        "test_path = Path(\"/content/test\")"
      ],
      "metadata": {
        "id": "lfrK0fhpcPua"
      },
      "execution_count": 6,
      "outputs": []
    },
    {
      "cell_type": "code",
      "source": [
        "# Getting Image paths\n",
        "train_image_paths = list(train_path.glob(\"*/*\"))\n",
        "train_image_paths = list(map(lambda x : str(x) , train_image_paths))\n",
        "\n",
        "train_image_paths[:10]"
      ],
      "metadata": {
        "colab": {
          "base_uri": "https://localhost:8080/"
        },
        "id": "DlisT6ficUkE",
        "outputId": "135353b0-0644-41d1-b1f1-bfa8405d234e"
      },
      "execution_count": 7,
      "outputs": [
        {
          "output_type": "execute_result",
          "data": {
            "text/plain": [
              "['/content/train/surprise/Training_26098669.jpg',\n",
              " '/content/train/surprise/Training_14450992.jpg',\n",
              " '/content/train/surprise/Training_17221105.jpg',\n",
              " '/content/train/surprise/Training_31342045.jpg',\n",
              " '/content/train/surprise/Training_30045015.jpg',\n",
              " '/content/train/surprise/Training_11999214.jpg',\n",
              " '/content/train/surprise/Training_16226895.jpg',\n",
              " '/content/train/surprise/Training_16444708.jpg',\n",
              " '/content/train/surprise/Training_48715959.jpg',\n",
              " '/content/train/surprise/Training_10819158.jpg']"
            ]
          },
          "metadata": {},
          "execution_count": 7
        }
      ]
    },
    {
      "cell_type": "code",
      "source": [
        "# Getting their respective labels\n",
        "\n",
        "def get_label(image_path):\n",
        "    return image_path.split(\"/\")[-2]\n",
        "\n",
        "train_image_labels = list(map(lambda x : get_label(x) , train_image_paths))\n",
        "train_image_labels[:10]"
      ],
      "metadata": {
        "colab": {
          "base_uri": "https://localhost:8080/"
        },
        "id": "pdi9086TcYgY",
        "outputId": "e8864ef6-5b55-42fd-e501-7db7f6a3d078"
      },
      "execution_count": 8,
      "outputs": [
        {
          "output_type": "execute_result",
          "data": {
            "text/plain": [
              "['surprise',\n",
              " 'surprise',\n",
              " 'surprise',\n",
              " 'surprise',\n",
              " 'surprise',\n",
              " 'surprise',\n",
              " 'surprise',\n",
              " 'surprise',\n",
              " 'surprise',\n",
              " 'surprise']"
            ]
          },
          "metadata": {},
          "execution_count": 8
        }
      ]
    },
    {
      "cell_type": "code",
      "source": [
        "from sklearn.preprocessing import LabelEncoder\n",
        "\n",
        "Le = LabelEncoder()\n",
        "train_image_labels = Le.fit_transform(train_image_labels)\n",
        "\n",
        "train_image_labels[:10]"
      ],
      "metadata": {
        "colab": {
          "base_uri": "https://localhost:8080/"
        },
        "id": "htoORCcxcc9F",
        "outputId": "cc6b6f01-cad5-4897-e5a4-d08d04aa46f7"
      },
      "execution_count": 9,
      "outputs": [
        {
          "output_type": "execute_result",
          "data": {
            "text/plain": [
              "array([6, 6, 6, 6, 6, 6, 6, 6, 6, 6])"
            ]
          },
          "metadata": {},
          "execution_count": 9
        }
      ]
    },
    {
      "cell_type": "code",
      "source": [
        "train_image_labels = tf.keras.utils.to_categorical(train_image_labels)\n",
        "\n",
        "train_image_labels[:10]"
      ],
      "metadata": {
        "colab": {
          "base_uri": "https://localhost:8080/"
        },
        "id": "AC0pym3jchey",
        "outputId": "5a875dc1-48ef-45d6-c568-65403ff79e0e"
      },
      "execution_count": 10,
      "outputs": [
        {
          "output_type": "execute_result",
          "data": {
            "text/plain": [
              "array([[0., 0., 0., 0., 0., 0., 1.],\n",
              "       [0., 0., 0., 0., 0., 0., 1.],\n",
              "       [0., 0., 0., 0., 0., 0., 1.],\n",
              "       [0., 0., 0., 0., 0., 0., 1.],\n",
              "       [0., 0., 0., 0., 0., 0., 1.],\n",
              "       [0., 0., 0., 0., 0., 0., 1.],\n",
              "       [0., 0., 0., 0., 0., 0., 1.],\n",
              "       [0., 0., 0., 0., 0., 0., 1.],\n",
              "       [0., 0., 0., 0., 0., 0., 1.],\n",
              "       [0., 0., 0., 0., 0., 0., 1.]], dtype=float32)"
            ]
          },
          "metadata": {},
          "execution_count": 10
        }
      ]
    },
    {
      "cell_type": "code",
      "source": [
        "from sklearn.model_selection import train_test_split\n",
        "\n",
        "Train_paths , Val_paths , Train_labels , Val_labels = train_test_split(train_image_paths , train_image_labels , test_size = 0.25)"
      ],
      "metadata": {
        "id": "iaYsC4slcmz2"
      },
      "execution_count": 11,
      "outputs": []
    },
    {
      "cell_type": "code",
      "source": [
        "# Compute class weights\n",
        "\n",
        "classTotals = Train_labels.sum(axis=0)\n",
        "classWeight = classTotals.max() / classTotals\n",
        "\n",
        "class_weight = {e : weight for e , weight in enumerate(classWeight)}\n",
        "print(class_weight)"
      ],
      "metadata": {
        "colab": {
          "base_uri": "https://localhost:8080/"
        },
        "id": "mZ0HXbJzcrTN",
        "outputId": "a4c77e66-4f74-4664-af48-2cc37d55e7e4"
      },
      "execution_count": 12,
      "outputs": [
        {
          "output_type": "stream",
          "name": "stdout",
          "text": [
            "{0: 1.841484, 1: 15.964912, 2: 1.7825661, 3: 1.0, 4: 1.4657718, 5: 1.5315568, 6: 2.2646205}\n"
          ]
        }
      ]
    },
    {
      "cell_type": "code",
      "source": [
        "# Function used for Transformation\n",
        "\n",
        "def load(image , label):\n",
        "    image = tf.io.read_file(image)\n",
        "    image = tf.io.decode_jpeg(image , channels = 3)\n",
        "    return image , label"
      ],
      "metadata": {
        "id": "2PaZzHVNcvoi"
      },
      "execution_count": 13,
      "outputs": []
    },
    {
      "cell_type": "code",
      "source": [
        "# Define IMAGE SIZE and BATCH SIZE\n",
        "IMG_SIZE = 96\n",
        "BATCH_SIZE = 32\n",
        "\n",
        "# Basic Transformation\n",
        "resize = tf.keras.Sequential([\n",
        "    tf.keras.layers.experimental.preprocessing.Resizing(IMG_SIZE, IMG_SIZE)\n",
        "])\n",
        "\n",
        "# Data Augmentation\n",
        "data_augmentation = tf.keras.Sequential([\n",
        "    tf.keras.layers.experimental.preprocessing.RandomFlip(\"horizontal\"),\n",
        "    tf.keras.layers.experimental.preprocessing.RandomRotation(0.1),\n",
        "    tf.keras.layers.experimental.preprocessing.RandomZoom(height_factor = (-0.1, -0.05))\n",
        "])"
      ],
      "metadata": {
        "id": "9liwNldCcz7K"
      },
      "execution_count": 14,
      "outputs": []
    },
    {
      "cell_type": "code",
      "source": [
        "# Function used to Create a Tensorflow Data Object\n",
        "AUTOTUNE = tf.data.experimental.AUTOTUNE\n",
        "def get_dataset(paths , labels , train = True):\n",
        "    image_paths = tf.convert_to_tensor(paths)\n",
        "    labels = tf.convert_to_tensor(labels)\n",
        "\n",
        "    image_dataset = tf.data.Dataset.from_tensor_slices(image_paths)\n",
        "    label_dataset = tf.data.Dataset.from_tensor_slices(labels)\n",
        "\n",
        "    dataset = tf.data.Dataset.zip((image_dataset , label_dataset))\n",
        "\n",
        "    dataset = dataset.map(lambda image , label : load(image , label))\n",
        "    dataset = dataset.map(lambda image, label: (resize(image), label) , num_parallel_calls=AUTOTUNE)\n",
        "    dataset = dataset.shuffle(1000)\n",
        "    dataset = dataset.batch(BATCH_SIZE)\n",
        "\n",
        "    if train:\n",
        "        dataset = dataset.map(lambda image, label: (data_augmentation(image), label) , num_parallel_calls=AUTOTUNE)\n",
        "\n",
        "    dataset = dataset.repeat()\n",
        "    return dataset"
      ],
      "metadata": {
        "id": "1sj6pxdhc8qM"
      },
      "execution_count": 15,
      "outputs": []
    },
    {
      "cell_type": "code",
      "source": [
        "# Creating Train Dataset object and Verifying it\n",
        "%time train_dataset = get_dataset(Train_paths , Train_labels)\n",
        "\n",
        "image , label = next(iter(train_dataset))\n",
        "print(image.shape)\n",
        "print(label.shape)"
      ],
      "metadata": {
        "colab": {
          "base_uri": "https://localhost:8080/"
        },
        "id": "EASh89VBdBdB",
        "outputId": "cc72a72d-3eb7-44ce-d5cb-9174c135b02c"
      },
      "execution_count": 16,
      "outputs": [
        {
          "output_type": "stream",
          "name": "stdout",
          "text": [
            "CPU times: user 2.13 s, sys: 54.5 ms, total: 2.18 s\n",
            "Wall time: 3.09 s\n",
            "(32, 96, 96, 3)\n",
            "(32, 7)\n"
          ]
        }
      ]
    },
    {
      "cell_type": "code",
      "source": [
        "# View a sample Training Image\n",
        "print(Le.inverse_transform(np.argmax(label , axis = 1))[0])\n",
        "plt.imshow((image[0].numpy()/255).reshape(96 , 96 , 3))"
      ],
      "metadata": {
        "colab": {
          "base_uri": "https://localhost:8080/",
          "height": 468
        },
        "id": "VgIcflt6dFUX",
        "outputId": "21bd1f22-f0e0-4191-a2d0-c79bd623bbb2"
      },
      "execution_count": 17,
      "outputs": [
        {
          "output_type": "stream",
          "name": "stdout",
          "text": [
            "neutral\n"
          ]
        },
        {
          "output_type": "execute_result",
          "data": {
            "text/plain": [
              "<matplotlib.image.AxesImage at 0x78b61cdeeb00>"
            ]
          },
          "metadata": {},
          "execution_count": 17
        },
        {
          "output_type": "display_data",
          "data": {
            "text/plain": [
              "<Figure size 640x480 with 1 Axes>"
            ],
            "image/png": "[encoded data removed]"
          },
          "metadata": {}
        }
      ]
    },
    {
      "cell_type": "code",
      "source": [
        "%time val_dataset = get_dataset(Val_paths , Val_labels , train = False)\n",
        "\n",
        "image , label = next(iter(val_dataset))\n",
        "print(image.shape)\n",
        "print(label.shape)"
      ],
      "metadata": {
        "colab": {
          "base_uri": "https://localhost:8080/"
        },
        "id": "Nke6OIPDdKJK",
        "outputId": "f10637c4-d237-4eae-d34c-e5b6d394e59f"
      },
      "execution_count": 18,
      "outputs": [
        {
          "output_type": "stream",
          "name": "stdout",
          "text": [
            "CPU times: user 34.4 ms, sys: 830 µs, total: 35.2 ms\n",
            "Wall time: 35.2 ms\n",
            "(32, 96, 96, 3)\n",
            "(32, 7)\n"
          ]
        }
      ]
    },
    {
      "cell_type": "code",
      "source": [
        "# View a sample Validation Image\n",
        "print(Le.inverse_transform(np.argmax(label , axis = 1))[0])\n",
        "plt.imshow((image[0].numpy()/255).reshape(96 , 96 , 3))"
      ],
      "metadata": {
        "colab": {
          "base_uri": "https://localhost:8080/",
          "height": 468
        },
        "id": "8Skdb5pgdNvv",
        "outputId": "08fab24d-09e5-4aed-9558-6a0c46209d7b"
      },
      "execution_count": 19,
      "outputs": [
        {
          "output_type": "stream",
          "name": "stdout",
          "text": [
            "sad\n"
          ]
        },
        {
          "output_type": "execute_result",
          "data": {
            "text/plain": [
              "<matplotlib.image.AxesImage at 0x78b5e395fb80>"
            ]
          },
          "metadata": {},
          "execution_count": 19
        },
        {
          "output_type": "display_data",
          "data": {
            "text/plain": [
              "<Figure size 640x480 with 1 Axes>"
            ],
            "image/png": "[encoded data removed]"
          },
          "metadata": {}
        }
      ]
    },
    {
      "cell_type": "code",
      "source": [
        "# Building EfficientNet model\n",
        "from tensorflow.keras.applications import EfficientNetB2\n",
        "\n",
        "backbone = EfficientNetB2(\n",
        "    input_shape=(96, 96, 3),\n",
        "    include_top=False\n",
        ")\n",
        "\n",
        "model = tf.keras.Sequential([\n",
        "    backbone,\n",
        "    tf.keras.layers.GlobalAveragePooling2D(),\n",
        "    tf.keras.layers.Dropout(0.3),\n",
        "    tf.keras.layers.Dense(128, activation='relu'),\n",
        "    tf.keras.layers.Dense(7, activation='softmax')\n",
        "])\n",
        "\n",
        "model.summary()"
      ],
      "metadata": {
        "colab": {
          "base_uri": "https://localhost:8080/"
        },
        "id": "pBpPt5jSdRRi",
        "outputId": "12892b05-d672-485e-d112-39a9622eced6"
      },
      "execution_count": 20,
      "outputs": [
        {
          "output_type": "stream",
          "name": "stdout",
          "text": [
            "Downloading data from https://storage.googleapis.com/keras-applications/efficientnetb2_notop.h5\n",
            "31790344/31790344 [==============================] - 0s 0us/step\n",
            "Model: \"sequential_2\"\n",
            "_________________________________________________________________\n",
            " Layer (type)                Output Shape              Param #   \n",
            "=================================================================\n",
            " efficientnetb2 (Functional  (None, 3, 3, 1408)        7768569   \n",
            " )                                                               \n",
            "                                                                 \n",
            " global_average_pooling2d (  (None, 1408)              0         \n",
            " GlobalAveragePooling2D)                                         \n",
            "                                                                 \n",
            " dropout (Dropout)           (None, 1408)              0         \n",
            "                                                                 \n",
            " dense (Dense)               (None, 128)               180352    \n",
            "                                                                 \n",
            " dense_1 (Dense)             (None, 7)                 903       \n",
            "                                                                 \n",
            "=================================================================\n",
            "Total params: 7949824 (30.33 MB)\n",
            "Trainable params: 7882249 (30.07 MB)\n",
            "Non-trainable params: 67575 (263.97 KB)\n",
            "_________________________________________________________________\n"
          ]
        }
      ]
    },
    {
      "cell_type": "code",
      "source": [
        "# Compiling your model by providing the Optimizer , Loss and Metrics\n",
        "model.compile(\n",
        "    optimizer=tf.keras.optimizers.Adam(learning_rate=0.001, beta_1=0.9, beta_2=0.999, epsilon=1e-07),\n",
        "    loss = 'categorical_crossentropy',\n",
        "    metrics=['accuracy' , tf.keras.metrics.Precision(name='precision'),tf.keras.metrics.Recall(name='recall')]\n",
        ")"
      ],
      "metadata": {
        "id": "8YkwcrFXdWtR"
      },
      "execution_count": 21,
      "outputs": []
    },
    {
      "cell_type": "code",
      "source": [
        "# Train the model\n",
        "history = model.fit(\n",
        "    train_dataset,\n",
        "    steps_per_epoch=len(Train_paths)//BATCH_SIZE,\n",
        "    epochs=12,\n",
        "    validation_data=val_dataset,\n",
        "    validation_steps = len(Val_paths)//BATCH_SIZE,\n",
        "    class_weight=class_weight\n",
        ")"
      ],
      "metadata": {
        "colab": {
          "base_uri": "https://localhost:8080/"
        },
        "id": "2ZZGlPBqdcV3",
        "outputId": "8291ec86-59b7-43db-867a-de45554b7561"
      },
      "execution_count": 22,
      "outputs": [
        {
          "output_type": "stream",
          "name": "stdout",
          "text": [
            "Epoch 1/12\n",
            "672/672 [==============================] - 152s 131ms/step - loss: 2.8504 - accuracy: 0.3931 - precision: 0.6477 - recall: 0.1795 - val_loss: 1.5202 - val_accuracy: 0.4025 - val_precision: 0.5977 - val_recall: 0.2193\n",
            "Epoch 2/12\n",
            "672/672 [==============================] - 82s 122ms/step - loss: 2.4151 - accuracy: 0.4803 - precision: 0.6868 - recall: 0.2779 - val_loss: 1.2672 - val_accuracy: 0.5286 - val_precision: 0.7192 - val_recall: 0.3080\n",
            "Epoch 3/12\n",
            "672/672 [==============================] - 87s 130ms/step - loss: 2.2391 - accuracy: 0.5174 - precision: 0.6956 - recall: 0.3253 - val_loss: 1.3219 - val_accuracy: 0.5013 - val_precision: 0.6218 - val_recall: 0.3101\n",
            "Epoch 4/12\n",
            "672/672 [==============================] - 87s 130ms/step - loss: 2.1555 - accuracy: 0.5316 - precision: 0.7045 - recall: 0.3472 - val_loss: 1.2834 - val_accuracy: 0.5170 - val_precision: 0.7162 - val_recall: 0.3302\n",
            "Epoch 5/12\n",
            "672/672 [==============================] - 82s 122ms/step - loss: 2.0550 - accuracy: 0.5557 - precision: 0.7147 - recall: 0.3774 - val_loss: 1.1117 - val_accuracy: 0.5855 - val_precision: 0.7324 - val_recall: 0.4131\n",
            "Epoch 6/12\n",
            "672/672 [==============================] - 82s 122ms/step - loss: 1.9898 - accuracy: 0.5713 - precision: 0.7168 - recall: 0.4050 - val_loss: 1.1859 - val_accuracy: 0.5642 - val_precision: 0.6741 - val_recall: 0.4280\n",
            "Epoch 7/12\n",
            "672/672 [==============================] - 82s 122ms/step - loss: 1.9376 - accuracy: 0.5795 - precision: 0.7345 - recall: 0.4112 - val_loss: 1.1066 - val_accuracy: 0.5804 - val_precision: 0.7324 - val_recall: 0.4245\n",
            "Epoch 8/12\n",
            "672/672 [==============================] - 86s 129ms/step - loss: 1.8892 - accuracy: 0.5880 - precision: 0.7307 - recall: 0.4266 - val_loss: 1.1514 - val_accuracy: 0.5698 - val_precision: 0.7189 - val_recall: 0.4042\n",
            "Epoch 9/12\n",
            "672/672 [==============================] - 87s 129ms/step - loss: 1.8418 - accuracy: 0.5990 - precision: 0.7344 - recall: 0.4435 - val_loss: 1.1461 - val_accuracy: 0.5765 - val_precision: 0.6831 - val_recall: 0.4583\n",
            "Epoch 10/12\n",
            "672/672 [==============================] - 83s 123ms/step - loss: 1.7839 - accuracy: 0.6018 - precision: 0.7400 - recall: 0.4566 - val_loss: 1.1392 - val_accuracy: 0.5852 - val_precision: 0.7177 - val_recall: 0.4360\n",
            "Epoch 11/12\n",
            "672/672 [==============================] - 89s 133ms/step - loss: 1.7614 - accuracy: 0.6137 - precision: 0.7455 - recall: 0.4623 - val_loss: 1.1211 - val_accuracy: 0.5857 - val_precision: 0.6809 - val_recall: 0.4674\n",
            "Epoch 12/12\n",
            "672/672 [==============================] - 83s 123ms/step - loss: 1.7261 - accuracy: 0.6203 - precision: 0.7490 - recall: 0.4818 - val_loss: 1.0990 - val_accuracy: 0.5954 - val_precision: 0.6984 - val_recall: 0.4775\n"
          ]
        }
      ]
    },
    {
      "cell_type": "code",
      "source": [
        "model.layers[0].trainable = False"
      ],
      "metadata": {
        "id": "9N8Yo4EkiFhJ"
      },
      "execution_count": 23,
      "outputs": []
    },
    {
      "cell_type": "code",
      "source": [
        "# Defining our callbacks\n",
        "checkpoint = tf.keras.callbacks.ModelCheckpoint(\"best_weights.h5\",verbose=1,save_best_only=True,save_weights_only = True)\n",
        "early_stop = tf.keras.callbacks.EarlyStopping(patience=4)"
      ],
      "metadata": {
        "id": "6YQaJwXxiIRO"
      },
      "execution_count": 24,
      "outputs": []
    },
    {
      "cell_type": "code",
      "source": [
        "model.summary()"
      ],
      "metadata": {
        "colab": {
          "base_uri": "https://localhost:8080/"
        },
        "id": "GJCnOSgKiMW_",
        "outputId": "904f1245-9f5d-4169-9f32-380dd0f1e335"
      },
      "execution_count": 25,
      "outputs": [
        {
          "output_type": "stream",
          "name": "stdout",
          "text": [
            "Model: \"sequential_2\"\n",
            "_________________________________________________________________\n",
            " Layer (type)                Output Shape              Param #   \n",
            "=================================================================\n",
            " efficientnetb2 (Functional  (None, 3, 3, 1408)        7768569   \n",
            " )                                                               \n",
            "                                                                 \n",
            " global_average_pooling2d (  (None, 1408)              0         \n",
            " GlobalAveragePooling2D)                                         \n",
            "                                                                 \n",
            " dropout (Dropout)           (None, 1408)              0         \n",
            "                                                                 \n",
            " dense (Dense)               (None, 128)               180352    \n",
            "                                                                 \n",
            " dense_1 (Dense)             (None, 7)                 903       \n",
            "                                                                 \n",
            "=================================================================\n",
            "Total params: 7949824 (30.33 MB)\n",
            "Trainable params: 181255 (708.03 KB)\n",
            "Non-trainable params: 7768569 (29.63 MB)\n",
            "_________________________________________________________________\n"
          ]
        }
      ]
    },
    {
      "cell_type": "code",
      "source": [
        "# Train the model\n",
        "history = model.fit(\n",
        "    train_dataset,\n",
        "    steps_per_epoch=len(Train_paths)//BATCH_SIZE,\n",
        "    epochs=8,\n",
        "    callbacks=[checkpoint , early_stop],\n",
        "    validation_data=val_dataset,\n",
        "    validation_steps = len(Val_paths)//BATCH_SIZE,\n",
        "    class_weight=class_weight\n",
        ")"
      ],
      "metadata": {
        "colab": {
          "base_uri": "https://localhost:8080/"
        },
        "id": "msyd6ODeiajC",
        "outputId": "8ad559d2-ad15-4cc7-9c44-faa4614132cc"
      },
      "execution_count": 26,
      "outputs": [
        {
          "output_type": "stream",
          "name": "stdout",
          "text": [
            "Epoch 1/8\n",
            "672/672 [==============================] - ETA: 0s - loss: 1.6297 - accuracy: 0.6422 - precision: 0.7579 - recall: 0.5053\n",
            "Epoch 1: val_loss improved from inf to 1.09305, saving model to best_weights.h5\n",
            "672/672 [==============================] - 85s 126ms/step - loss: 1.6297 - accuracy: 0.6422 - precision: 0.7579 - recall: 0.5053 - val_loss: 1.0930 - val_accuracy: 0.6035 - val_precision: 0.7009 - val_recall: 0.4979\n",
            "Epoch 2/8\n",
            "672/672 [==============================] - ETA: 0s - loss: 1.6104 - accuracy: 0.6449 - precision: 0.7579 - recall: 0.5114\n",
            "Epoch 2: val_loss did not improve from 1.09305\n",
            "672/672 [==============================] - 83s 123ms/step - loss: 1.6104 - accuracy: 0.6449 - precision: 0.7579 - recall: 0.5114 - val_loss: 1.1429 - val_accuracy: 0.5855 - val_precision: 0.6861 - val_recall: 0.4729\n",
            "Epoch 3/8\n",
            "672/672 [==============================] - ETA: 0s - loss: 1.6419 - accuracy: 0.6383 - precision: 0.7532 - recall: 0.5091\n",
            "Epoch 3: val_loss improved from 1.09305 to 1.05135, saving model to best_weights.h5\n",
            "672/672 [==============================] - 85s 126ms/step - loss: 1.6419 - accuracy: 0.6383 - precision: 0.7532 - recall: 0.5091 - val_loss: 1.0513 - val_accuracy: 0.6046 - val_precision: 0.7123 - val_recall: 0.4890\n",
            "Epoch 4/8\n",
            "672/672 [==============================] - ETA: 0s - loss: 1.5354 - accuracy: 0.6604 - precision: 0.7651 - recall: 0.5430\n",
            "Epoch 4: val_loss did not improve from 1.05135\n",
            "672/672 [==============================] - 83s 123ms/step - loss: 1.5354 - accuracy: 0.6604 - precision: 0.7651 - recall: 0.5430 - val_loss: 1.0850 - val_accuracy: 0.6003 - val_precision: 0.7011 - val_recall: 0.4919\n",
            "Epoch 5/8\n",
            "672/672 [==============================] - ETA: 0s - loss: 1.5229 - accuracy: 0.6583 - precision: 0.7675 - recall: 0.5424\n",
            "Epoch 5: val_loss did not improve from 1.05135\n",
            "672/672 [==============================] - 82s 122ms/step - loss: 1.5229 - accuracy: 0.6583 - precision: 0.7675 - recall: 0.5424 - val_loss: 1.1337 - val_accuracy: 0.5850 - val_precision: 0.6857 - val_recall: 0.4752\n",
            "Epoch 6/8\n",
            "672/672 [==============================] - ETA: 0s - loss: 1.4787 - accuracy: 0.6682 - precision: 0.7695 - recall: 0.5538\n",
            "Epoch 6: val_loss did not improve from 1.05135\n",
            "672/672 [==============================] - 84s 125ms/step - loss: 1.4787 - accuracy: 0.6682 - precision: 0.7695 - recall: 0.5538 - val_loss: 1.0859 - val_accuracy: 0.6145 - val_precision: 0.6955 - val_recall: 0.5310\n",
            "Epoch 7/8\n",
            "672/672 [==============================] - ETA: 0s - loss: 1.4533 - accuracy: 0.6756 - precision: 0.7678 - recall: 0.5665\n",
            "Epoch 7: val_loss improved from 1.05135 to 1.03351, saving model to best_weights.h5\n",
            "672/672 [==============================] - 87s 129ms/step - loss: 1.4533 - accuracy: 0.6756 - precision: 0.7678 - recall: 0.5665 - val_loss: 1.0335 - val_accuracy: 0.6267 - val_precision: 0.7230 - val_recall: 0.5155\n",
            "Epoch 8/8\n",
            "672/672 [==============================] - ETA: 0s - loss: 1.4928 - accuracy: 0.6712 - precision: 0.7671 - recall: 0.5580\n",
            "Epoch 8: val_loss did not improve from 1.03351\n",
            "672/672 [==============================] - 87s 130ms/step - loss: 1.4928 - accuracy: 0.6712 - precision: 0.7671 - recall: 0.5580 - val_loss: 1.1232 - val_accuracy: 0.6060 - val_precision: 0.6799 - val_recall: 0.5172\n"
          ]
        }
      ]
    },
    {
      "cell_type": "code",
      "source": [
        "from tensorflow.keras.applications import EfficientNetB2\n",
        "\n",
        "backbone = EfficientNetB2(\n",
        "    input_shape=(96, 96, 3),\n",
        "    include_top=False\n",
        ")\n",
        "\n",
        "model = tf.keras.Sequential([\n",
        "    backbone,\n",
        "    tf.keras.layers.GlobalAveragePooling2D(),\n",
        "    tf.keras.layers.Dropout(0.3),\n",
        "    tf.keras.layers.Dense(128, activation='relu'),\n",
        "    tf.keras.layers.Dense(7, activation='softmax')\n",
        "])\n",
        "\n",
        "model.compile(\n",
        "    optimizer=tf.keras.optimizers.Adam(learning_rate=0.001, beta_1=0.9, beta_2=0.999, epsilon=1e-07),\n",
        "    loss = 'categorical_crossentropy',\n",
        "    metrics=['accuracy' , tf.keras.metrics.Precision(name='precision'),tf.keras.metrics.Recall(name='recall')]\n",
        ")"
      ],
      "metadata": {
        "id": "a5u7ZEDLk8qv"
      },
      "execution_count": 27,
      "outputs": []
    },
    {
      "cell_type": "code",
      "source": [
        "model.load_weights(\"best_weights.h5\")"
      ],
      "metadata": {
        "id": "sv59ZQy3mT-K"
      },
      "execution_count": 28,
      "outputs": []
    },
    {
      "cell_type": "code",
      "source": [
        "# Create a Dataset Object for 'Testing' Set just the way we did for Training and Validation\n",
        "test_image_paths = list(test_path.glob(\"*/*\"))\n",
        "test_image_paths = list(map(lambda x : str(x) , test_image_paths))\n",
        "test_labels = list(map(lambda x : get_label(x) , test_image_paths))\n",
        "\n",
        "test_labels = Le.transform(test_labels)\n",
        "test_labels = tf.keras.utils.to_categorical(test_labels)\n",
        "\n",
        "test_image_paths = tf.convert_to_tensor(test_image_paths)\n",
        "test_labels = tf.convert_to_tensor(test_labels)\n",
        "\n",
        "def decode_image(image , label):\n",
        "    image = tf.io.read_file(image)\n",
        "    image = tf.io.decode_jpeg(image , channels = 3)\n",
        "    image = tf.image.resize(image , [96 , 96] , method=\"bilinear\")\n",
        "    return image , label\n",
        "\n",
        "test_dataset = (\n",
        "     tf.data.Dataset\n",
        "    .from_tensor_slices((test_image_paths, test_labels))\n",
        "    .map(decode_image)\n",
        "    .batch(BATCH_SIZE)\n",
        ")"
      ],
      "metadata": {
        "id": "BEBwmUWGmXOv"
      },
      "execution_count": 29,
      "outputs": []
    },
    {
      "cell_type": "code",
      "source": [
        "# Verify Test Dataset Object\n",
        "image , label = next(iter(test_dataset))\n",
        "print(image.shape)\n",
        "print(label.shape)"
      ],
      "metadata": {
        "colab": {
          "base_uri": "https://localhost:8080/"
        },
        "id": "dX_dEmb9mbyB",
        "outputId": "553d7355-e681-449a-b589-ce5bbec3ba7c"
      },
      "execution_count": 30,
      "outputs": [
        {
          "output_type": "stream",
          "name": "stdout",
          "text": [
            "(32, 96, 96, 3)\n",
            "(32, 7)\n"
          ]
        }
      ]
    },
    {
      "cell_type": "code",
      "source": [
        "# View a sample Validation Image\n",
        "print(Le.inverse_transform(np.argmax(label , axis = 1))[0])\n",
        "plt.imshow((image[0].numpy()/255).reshape(96 , 96 , 3))"
      ],
      "metadata": {
        "colab": {
          "base_uri": "https://localhost:8080/",
          "height": 468
        },
        "id": "UPmIElvNmfYt",
        "outputId": "dd1a8354-df76-42b6-88b6-5df660221fc2"
      },
      "execution_count": 31,
      "outputs": [
        {
          "output_type": "stream",
          "name": "stdout",
          "text": [
            "surprise\n"
          ]
        },
        {
          "output_type": "execute_result",
          "data": {
            "text/plain": [
              "<matplotlib.image.AxesImage at 0x78b5b79fef20>"
            ]
          },
          "metadata": {},
          "execution_count": 31
        },
        {
          "output_type": "display_data",
          "data": {
            "text/plain": [
              "<Figure size 640x480 with 1 Axes>"
            ],
            "image/png": "[encoded data removed]"
          },
          "metadata": {}
        }
      ]
    },
    {
      "cell_type": "code",
      "source": [
        "# Evaluating the loaded model\n",
        "loss, acc, prec, rec = model.evaluate(test_dataset)\n",
        "\n",
        "print(\" Testing Acc : \" , acc)\n",
        "print(\" Testing Precision \" , prec)\n",
        "print(\" Testing Recall \" , rec)"
      ],
      "metadata": {
        "colab": {
          "base_uri": "https://localhost:8080/"
        },
        "id": "P4RX5vzVmjMI",
        "outputId": "5b3d3703-a6fa-4dbd-ed87-55f51093da67"
      },
      "execution_count": 32,
      "outputs": [
        {
          "output_type": "stream",
          "name": "stdout",
          "text": [
            "225/225 [==============================] - 11s 28ms/step - loss: 1.0256 - accuracy: 0.6230 - precision: 0.7155 - recall: 0.5202\n",
            " Testing Acc :  0.6230147480964661\n",
            " Testing Precision  0.7154627442359924\n",
            " Testing Recall  0.5202006101608276\n"
          ]
        }
      ]
    },
    {
      "cell_type": "code",
      "source": [
        "# Save Model\n",
        "model.save(\"FacialExpressionModel.h5\")"
      ],
      "metadata": {
        "colab": {
          "base_uri": "https://localhost:8080/"
        },
        "id": "u2GXgZ-lmq0H",
        "outputId": "67b819e6-0f7e-4c64-8af9-a02ecc47c108"
      },
      "execution_count": 33,
      "outputs": [
        {
          "output_type": "stream",
          "name": "stderr",
          "text": [
            "/usr/local/lib/python3.10/dist-packages/keras/src/engine/training.py:3103: UserWarning: You are saving your model as an HDF5 file via `model.save()`. This file format is considered legacy. We recommend using instead the native Keras format, e.g. `model.save('my_model.keras')`.\n",
            "  saving_api.save_model(\n"
          ]
        }
      ]
    },
    {
      "cell_type": "code",
      "source": [
        "# Save Label Encoder\n",
        "import pickle\n",
        "\n",
        "def save_object(obj , name):\n",
        "    pickle_obj = open(f\"{name}.pck\",\"wb\")\n",
        "    pickle.dump(obj, pickle_obj)\n",
        "    pickle_obj.close()"
      ],
      "metadata": {
        "id": "JRs4SyIymu05"
      },
      "execution_count": 34,
      "outputs": []
    },
    {
      "cell_type": "code",
      "source": [
        "save_object(Le, \"LabelEncoder\")"
      ],
      "metadata": {
        "id": "CKBycQgcmyA5"
      },
      "execution_count": 35,
      "outputs": []
    }
  ]
}